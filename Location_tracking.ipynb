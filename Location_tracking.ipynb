{
 "cells": [
  {
   "cell_type": "code",
   "execution_count": 2554,
   "metadata": {
    "collapsed": false
   },
   "outputs": [],
   "source": [
    "'''\n",
    "The following libraries are mandatory. If they are not installed , you can simply install them in the command prompt window using, for example for urllib3, the command \"pip install urllib3\".\n",
    "The urllib3 module open arbitrary resources by URL\n",
    "The facebook libary is designed to support the Facebook Graph API\n",
    "The request package is needed for a higher - level HTTP interface----apparently also the most downloaded package\n",
    "The pandas and the numpy are the classical package for working with DataFrame and some math in python.\n",
    "'''\n",
    "import urllib3\n",
    "import facebook\n",
    "import requests\n",
    "import pandas as pd\n",
    "import numpy as np"
   ]
  },
  {
   "cell_type": "code",
   "execution_count": 2555,
   "metadata": {
    "collapsed": true
   },
   "outputs": [],
   "source": [
    "#Inserting here the extended token you obtained from the Facebook developers page, User acces token\n",
    "\n",
    "token='EAAEdjFcBVa8BAKUn9F03MR2dk5h8simPZB0i1w3EjZB85YoDOqNwT5JogIzzZBmDE6rtTDM01ZA8ZCOtCjtUeG2tcfnvWqnJ97Twjjlj3eptVDEkXkIyg68WTZBXlCfs5dvpAxcStOCtnsfC4rSFKieMSO4uf2CdIZD'"
   ]
  },
  {
   "cell_type": "code",
   "execution_count": 2556,
   "metadata": {
    "collapsed": true
   },
   "outputs": [],
   "source": [
    "# The Graph API is made up of the objects or nodes in Facebook (e.g.,events, photos) and the connections or edges between them (e.g., friends, photo tags, etc).\n",
    "\n",
    "graph = facebook.GraphAPI(access_token=token, version = 2.7)"
   ]
  },
  {
   "cell_type": "code",
   "execution_count": 2557,
   "metadata": {
    "collapsed": false
   },
   "outputs": [],
   "source": [
    "'''\n",
    "So you can access events, photos, etc. I am only searching in my photos so, \"/me/photos\". \n",
    "There are two type existing here: uploaded or tagged. I've choosed the first one. \n",
    "The default value for the number of photos is 25. If you want to extract a larger number you have to set manually the limit \n",
    "Please remember that you need to have a location and also a description for each extracted photo\n",
    "'''\n",
    "photos= graph.request('me/photos/uploaded?limit=30') "
   ]
  },
  {
   "cell_type": "code",
   "execution_count": 2558,
   "metadata": {
    "collapsed": false
   },
   "outputs": [],
   "source": [
    "#print(photos)"
   ]
  },
  {
   "cell_type": "code",
   "execution_count": 2559,
   "metadata": {
    "collapsed": false
   },
   "outputs": [
    {
     "name": "stdout",
     "output_type": "stream",
     "text": [
      "30\n"
     ]
    }
   ],
   "source": [
    "print(len(photosList))"
   ]
  },
  {
   "cell_type": "code",
   "execution_count": 2560,
   "metadata": {
    "collapsed": false
   },
   "outputs": [],
   "source": [
    "photosid={}\n",
    "n=len(photosList)\n",
    "for i in range(0,n):\n",
    "    photosid[i]=photosList[i]['id']"
   ]
  },
  {
   "cell_type": "code",
   "execution_count": 2561,
   "metadata": {
    "collapsed": false
   },
   "outputs": [],
   "source": [
    "# Let's extract the created_time and place for our photos\n",
    "Placephoto={}\n",
    "for i in range(0,n):\n",
    "    r1 = graph.get_object(id=photosid[i],  fields='created_time,id,place')    \n",
    "    Placephoto[i]=r1['place']"
   ]
  },
  {
   "cell_type": "code",
   "execution_count": 2562,
   "metadata": {
    "collapsed": false
   },
   "outputs": [],
   "source": [
    "# red the raw data into parse data using json\n",
    "\n",
    "admins_json={}\n",
    "for i in range(0,n):\n",
    "    admins = requests.get(\"https://graph.facebook.com/v2.7/\"+photosid[i]+\"/admins?access_token=\"+token)\n",
    "    admins_json[i] = admins.json()"
   ]
  },
  {
   "cell_type": "code",
   "execution_count": 2563,
   "metadata": {
    "collapsed": false
   },
   "outputs": [],
   "source": [
    "#print(Placephoto)"
   ]
  },
  {
   "cell_type": "code",
   "execution_count": 2564,
   "metadata": {
    "collapsed": false
   },
   "outputs": [
    {
     "name": "stdout",
     "output_type": "stream",
     "text": [
      "                         location\n",
      "city                    Stuttgart\n",
      "country                   Germany\n",
      "latitude                  48.7788\n",
      "longitude                 9.18064\n",
      "zip                         70173\n",
      "city                    Stuttgart\n",
      "country                   Germany\n",
      "latitude                  48.7788\n",
      "longitude                 9.18064\n",
      "zip                         70173\n",
      "city                    Stuttgart\n",
      "country                   Germany\n",
      "latitude                  48.7788\n",
      "longitude                 9.18064\n",
      "zip                         70173\n",
      "city                    Stuttgart\n",
      "country                   Germany\n",
      "latitude                  48.7788\n",
      "longitude                 9.18064\n",
      "zip                         70173\n",
      "city                    Stuttgart\n",
      "country                   Germany\n",
      "latitude                  48.7788\n",
      "longitude                 9.18064\n",
      "zip                         70173\n",
      "city                    Stuttgart\n",
      "country                   Germany\n",
      "latitude                  48.7788\n",
      "longitude                 9.18064\n",
      "zip                         70173\n",
      "...                           ...\n",
      "country                     Spain\n",
      "latitude                  28.2439\n",
      "longitude                -16.8403\n",
      "city                       Munich\n",
      "country                   Germany\n",
      "latitude                  48.1507\n",
      "longitude                 11.5907\n",
      "street          Englischer Garten\n",
      "zip                         98617\n",
      "city                     Kötzting\n",
      "country                   Germany\n",
      "latitude                  49.1728\n",
      "longitude                 12.8466\n",
      "zip                         93444\n",
      "city                     Kötzting\n",
      "country                   Germany\n",
      "latitude                  49.1728\n",
      "longitude                 12.8466\n",
      "zip                         93444\n",
      "city                     Kötzting\n",
      "country                   Germany\n",
      "latitude                  49.1728\n",
      "longitude                 12.8466\n",
      "zip                         93444\n",
      "city                    Stuttgart\n",
      "country                   Germany\n",
      "latitude                  48.7793\n",
      "longitude                  9.1847\n",
      "street     Oberer Schlossgarten 6\n",
      "zip                         70173\n",
      "\n",
      "[133 rows x 1 columns]\n",
      "            location\n",
      "city       Stuttgart\n",
      "city       Stuttgart\n",
      "city       Stuttgart\n",
      "city       Stuttgart\n",
      "city       Stuttgart\n",
      "city       Stuttgart\n",
      "city    Los Gigantes\n",
      "city        Tenerife\n",
      "city        Tenerife\n",
      "city        Tenerife\n",
      "city           Adeje\n",
      "city  Los Cristianos\n",
      "city  Los Cristianos\n",
      "city       El Médano\n",
      "city        Tenerife\n",
      "city        Tenerife\n",
      "city        Tenerife\n",
      "city        Tenerife\n",
      "city    Los Gigantes\n",
      "city    Los Gigantes\n",
      "city    Los Gigantes\n",
      "city    Los Gigantes\n",
      "city          Munich\n",
      "city        Kötzting\n",
      "city        Kötzting\n",
      "city        Kötzting\n",
      "city       Stuttgart\n",
      "        location\n",
      "country  Germany\n",
      "country  Germany\n",
      "country  Germany\n",
      "country  Germany\n",
      "country  Germany\n",
      "country  Germany\n",
      "country    Spain\n",
      "country    Spain\n",
      "country    Spain\n",
      "country    Spain\n",
      "country    Spain\n",
      "country    Spain\n",
      "country    Spain\n",
      "country    Spain\n",
      "country    Spain\n",
      "country    Spain\n",
      "country    Spain\n",
      "country    Spain\n",
      "country    Spain\n",
      "country    Spain\n",
      "country    Spain\n",
      "country    Spain\n",
      "country  Germany\n",
      "country  Germany\n",
      "country  Germany\n",
      "country  Germany\n",
      "country  Germany\n"
     ]
    }
   ],
   "source": [
    "pp={}\n",
    "df1=[]\n",
    "df=[]\n",
    "df_cities=[]\n",
    "df3={}\n",
    "for i in range(0,n):\n",
    "    pp[i]=pd.DataFrame(Placephoto[i])\n",
    "    df1.append(pp[i])\n",
    "    df2=df1[i]\n",
    "    df3[i]=pd.DataFrame(df2['location'])\n",
    "    df=pd.DataFrame(df.append(df3[i]), columns=['location']) \n",
    "\n",
    "# not very conventional, but if you first want to check if df is of DataFrame type    \n",
    "isinstance(df,pd.DataFrame)\n",
    "# if you want to print all information: city, country, latitude, longitude, zip\n",
    "print(df)\n",
    "# if you only want to see the cities \n",
    "print(df.loc['city',])\n",
    "# if you only want to see the countries\n",
    "print(df.loc['country',])"
   ]
  },
  {
   "cell_type": "code",
   "execution_count": 2565,
   "metadata": {
    "collapsed": true
   },
   "outputs": [],
   "source": [
    "# You can also extract information about public events for a specific search term, for example: yoga\n",
    "events = graph.request('/search?q=yoga&type=event&limit=100')"
   ]
  },
  {
   "cell_type": "code",
   "execution_count": 2566,
   "metadata": {
    "collapsed": true
   },
   "outputs": [],
   "source": [
    "eventList = events['data']"
   ]
  },
  {
   "cell_type": "code",
   "execution_count": 2567,
   "metadata": {
    "collapsed": true
   },
   "outputs": [],
   "source": [
    "#Assume you want information about the second event returned\n",
    "eventid = eventList[4]['id']\n",
    "# if you want information about all events use a for loop as for the photos case above"
   ]
  },
  {
   "cell_type": "code",
   "execution_count": 2568,
   "metadata": {
    "collapsed": true
   },
   "outputs": [],
   "source": [
    "event1 = graph.get_object(id=eventid,\n",
    "fields='category,cover,description,end_time,guest_list_enabled,interested_count,is_canceled,is_page_owned,is_viewer_admin,maybe_count,noreply_count,owner,parent_group,place,ticket_uri,timezone,type,updated_time')\n",
    "Description=event1['description']\n",
    "Time=event1['updated_time']\n",
    "Place=event1['place']"
   ]
  },
  {
   "cell_type": "code",
   "execution_count": 2569,
   "metadata": {
    "collapsed": false
   },
   "outputs": [
    {
     "name": "stdout",
     "output_type": "stream",
     "text": [
      "The Rockies are proud to announce the 5th Annual Yoga Day at Coors Field! This unique event gives fans the opportunity to combine two components of an active lifestyle - yoga and baseball!\n",
      "\n",
      "You and your fellow \"yogis\" are invited to join us for a special pre-game yoga session held on the field! The private, on-field yoga session will begin at 8:30am and last approximately 60 minutes.\n",
      "\n",
      "Your Yoga Day at Coors Field ticket package includes the following:\n",
      "\n",
      "A ticket to watch the Rockies take on the Brewers\n",
      "Exclusive, pre-game field access for the hour-long yoga session\n",
      "Special Rockies-themed yoga-promotional item! \n",
      "\n",
      "Yoga: 8:30am to 9:30am\n",
      "\n",
      "First Pitch: 6:10pm\n",
      "2017-03-15T21:32:26+0000\n",
      "{u'id': u'50021802933', u'name': u'Coors Field', u'location': {u'city': u'Denver', u'zip': u'80205', u'country': u'United States', u'longitude': -104.99408474763, u'state': u'CO', u'street': u'2001 blake st', u'latitude': 39.755302594299}}\n"
     ]
    }
   ],
   "source": [
    "#use this for the case of yoga-events analysis publicly promoted on facebook \n",
    "admins = requests.get(\"https://graph.facebook.com/v2.7/\"+eventid+\"/admins?access_token=\"+token)\n",
    "admins_json = admins.json()\n",
    "print(Description)\n",
    "print(Time)\n",
    "print(Place)"
   ]
  }
 ],
 "metadata": {
  "kernelspec": {
   "display_name": "Python [default]",
   "language": "python",
   "name": "python2"
  },
  "language_info": {
   "codemirror_mode": {
    "name": "ipython",
    "version": 2
   },
   "file_extension": ".py",
   "mimetype": "text/x-python",
   "name": "python",
   "nbconvert_exporter": "python",
   "pygments_lexer": "ipython2",
   "version": "2.7.12"
  }
 },
 "nbformat": 4,
 "nbformat_minor": 1
}
